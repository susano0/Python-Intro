{
 "cells": [
  {
   "cell_type": "markdown",
   "metadata": {},
   "source": [
    "# Assignment-1"
   ]
  },
  {
   "cell_type": "markdown",
   "metadata": {},
   "source": [
    "## 1. Given an integer n, print a nXn matrix with squares (outermost to innermost) having values n, then n-1 and so on.\n",
    "\tFor example, given 5, output is:\n",
    "\t```\n",
    "\t5 5 5 5 5\n",
    "\t5 4 4 4 5\n",
    "\t5 4 3 4 5\n",
    "\t5 4 4 4 5 \n",
    "\t5 5 5 5 5\n",
    "\t```\n"
   ]
  },
  {
   "cell_type": "code",
   "execution_count": 4,
   "metadata": {},
   "outputs": [
    {
     "name": "stdout",
     "output_type": "stream",
     "text": [
      "Enter input: 5\n",
      "5 5 5 5 5 \n",
      "5 4 4 4 5 \n",
      "5 4 3 4 5 \n",
      "5 4 4 4 5 \n",
      "5 5 5 5 5 \n"
     ]
    }
   ],
   "source": [
    "n = int(input(\"Enter input: \"))\n",
    "for i in range(n):\n",
    "    for j in range(n):\n",
    "        print(max(n-i,n-j,i+1,j+1), nd = \" \")\n",
    "    print()"
   ]
  },
  {
   "cell_type": "markdown",
   "metadata": {},
   "source": [
    "## 2. Write a python program to print this pattern:\n",
    "    For n = 5:\n",
    "    ```\n",
    "        *\n",
    "       ***\n",
    "      *****\n",
    "     *******\n",
    "    *********\n",
    "    ```\n"
   ]
  },
  {
   "cell_type": "code",
   "execution_count": 8,
   "metadata": {},
   "outputs": [
    {
     "name": "stdout",
     "output_type": "stream",
     "text": [
      "Enter input: 5\n",
      "      *\n",
      "     ***\n",
      "    *****\n",
      "   *******\n",
      "  *********\n"
     ]
    }
   ],
   "source": [
    "n = int(input(\"Enter input: \"))\n",
    "for i in range(n):\n",
    "    print(\" \"*(n-i),\"*\"*(2*i+1))"
   ]
  },
  {
   "cell_type": "markdown",
   "metadata": {},
   "source": [
    "## 3. Write a python program to print this pattern:\n",
    "    For n = 5:\n",
    "\t```\n",
    "\t\t\tA\n",
    "\t\t   ABA\n",
    "\t\t  ABCBA\n",
    "\t     ABCDCBA\n",
    "\t\tABCDEDCBA\n",
    "\t```"
   ]
  },
  {
   "cell_type": "code",
   "execution_count": 21,
   "metadata": {},
   "outputs": [
    {
     "name": "stdout",
     "output_type": "stream",
     "text": [
      "Enter input: 5\n",
      "     A\n",
      "    ABA\n",
      "   ABCBA\n",
      "  ABCDCBA\n",
      " ABCDEDCBA\n"
     ]
    }
   ],
   "source": [
    "n = int(input(\"Enter input: \"))\n",
    "char = (lambda x:chr(ord('A')+x))\n",
    "for i in range(n):\n",
    "    ch = 'A'\n",
    "    print(\" \"*(n-i),end = \"\")\n",
    "    for j in range(i+1):\n",
    "        print(char(j),end = \"\")\n",
    "    for j in range(i-1,-1,-1):\n",
    "        print(char(j),end = \"\")\n",
    "    print()    \n",
    "    \n",
    "        "
   ]
  },
  {
   "cell_type": "markdown",
   "metadata": {},
   "source": [
    "## 4. Write a recursive function to print all possible strings of length k that can be formed from a set of n characters.\n"
   ]
  },
  {
   "cell_type": "code",
   "execution_count": 50,
   "metadata": {},
   "outputs": [],
   "source": [
    "def printPermu(rstr,k,curr_str):\n",
    "    if len(curr_str) == k:\n",
    "        print(curr_str)\n",
    "        return\n",
    "    for ch in rstr:\n",
    "        new_curr_str =curr_str +  ch\n",
    "        printPermu(rstr,k,new_curr_str)\n",
    "    \n",
    "_str = input(\"Enter reference string (set of n characters): \")\n",
    "k = int(input(\"Enter required length: \"))\n",
    "printPermu(_str,k,\"\")"
   ]
  },
  {
   "cell_type": "markdown",
   "metadata": {},
   "source": [
    "## 5. Write a simple Python program which inputs and stores the data about university students as a list of dictionaries. Your final record structure should look like this:\n",
    "    ```\n",
    "     [\n",
    "         {\n",
    "             'roll-no': 1211,\n",
    "             'name': 'Ravi',\n",
    "             'branch': 'CSE'\n",
    "         },\n",
    "         {\n",
    "             'roll-no': 202,\n",
    "             'name': 'Abhishek',\n",
    "             'branch': 'SE'\n",
    "         },\n",
    "         {\n",
    "             'roll-no': 1202,\n",
    "             'name': 'Sachin',\n",
    "             'branch': 'IT'\n",
    "         }\n",
    "     ]\n",
    "    ```"
   ]
  },
  {
   "cell_type": "code",
   "execution_count": 61,
   "metadata": {},
   "outputs": [
    {
     "name": "stdout",
     "output_type": "stream",
     "text": [
      "Enter number of students: 3\n",
      "roll-no: 1211\n",
      "name: Ravi\n",
      "branch: CSE\n",
      "roll-no: 202\n",
      "name: Abhishek\n",
      "branch: SE\n",
      "roll-no: 1202\n",
      "name: Sachin\n",
      "branch: IT\n",
      "[{'roll-no': 1211, 'name': 'Ravi', 'branch': 'CSE'}, {'roll-no': 202, 'name': 'Abhishek', 'branch': 'SE'}, {'roll-no': 1202, 'name': 'Sachin', 'branch': 'IT'}]\n"
     ]
    }
   ],
   "source": [
    "def record():\n",
    "    roll = int(input(\"roll-no: \"))\n",
    "    name = input(\"name: \")\n",
    "    branch = input(\"branch: \")\n",
    "    return {'roll-no':roll,'name':name,'branch':branch}\n",
    "n = int(input(\"Enter number of students: \"))\n",
    "l = [record() for _ in range(n)]  \n",
    "print(l)"
   ]
  },
  {
   "cell_type": "markdown",
   "metadata": {},
   "source": [
    "## 6. Write a program to find second maximum number in a list.\n"
   ]
  },
  {
   "cell_type": "code",
   "execution_count": 5,
   "metadata": {},
   "outputs": [
    {
     "name": "stdout",
     "output_type": "stream",
     "text": [
      "Enter number of elements(2 or more): 5\n",
      "Enter numbers: 7\n",
      "4\n",
      "1\n",
      "3\n",
      "9\n",
      "Second maximum number is:  7\n"
     ]
    }
   ],
   "source": [
    "n = int(input(\"Enter number of elements(2 or more): \"))\n",
    "print(\"Enter numbers: \", end = \"\")\n",
    "l = [int(input()) for _ in range(n)]\n",
    "l.sort()\n",
    "print(\"Second maximum number is: \",l[-2])"
   ]
  },
  {
   "cell_type": "markdown",
   "metadata": {},
   "source": [
    "## 7. Explore the `os` module in Python and write a Python program to:\n",
    "\t- List all files in a folder entered by user.\n",
    "\t- Rename any given file in the specified folder"
   ]
  },
  {
   "cell_type": "code",
   "execution_count": 7,
   "metadata": {},
   "outputs": [
    {
     "name": "stdout",
     "output_type": "stream",
     "text": [
      "Enter path of the directory(folder): C:\\Utkarsh\\Nagarro\n",
      "All the files in the given folder are:\n",
      " ['.ipynb_checkpoints', 'Assignment-1.ipynb', 'Jarvis.bot', 'js-basics', 'MyProject']\n"
     ]
    }
   ],
   "source": [
    "import os\n",
    "# List all files in a folder entered by user\n",
    "path = input(\"Enter path of the directory(folder): \")\n",
    "print(\"All the files in the given folder are:\\n\",os.listdir(path))"
   ]
  },
  {
   "cell_type": "code",
   "execution_count": 9,
   "metadata": {},
   "outputs": [
    {
     "name": "stdout",
     "output_type": "stream",
     "text": [
      "Enter path of the directory(folder): C:\\Utkarsh\\Nagarro\n",
      "['.ipynb_checkpoints', 'Assignment-1.ipynb', 'Jarvis.bot', 'js-basics', 'MyProject', 'work.txt']\n",
      "Enter file name: work.txt\n",
      "Enter new file name: timetable.txt\n",
      "Name changed!\n",
      "['.ipynb_checkpoints', 'Assignment-1.ipynb', 'Jarvis.bot', 'js-basics', 'MyProject', 'timetable.txt']\n"
     ]
    }
   ],
   "source": [
    "# Rename any given file in the specified folder\n",
    "path = input(\"Enter path of the directory(folder): \")\n",
    "print(os.listdir(path))\n",
    "file = input(\"Enter file name: \")\n",
    "new_file = input(\"Enter new file name: \")\n",
    "os.rename(file,new_file)\n",
    "print(\"Name changed!\")\n",
    "print(os.listdir(path))"
   ]
  },
  {
   "cell_type": "markdown",
   "metadata": {},
   "source": [
    "## 8. Explore the random module and create a number guessing game using it."
   ]
  },
  {
   "cell_type": "code",
   "execution_count": 13,
   "metadata": {},
   "outputs": [
    {
     "name": "stdout",
     "output_type": "stream",
     "text": [
      "Enter your guess between 1 and 100: 50\n",
      "too high. Try a lesser number next time\n",
      "Enter your guess between 1 and 100: 25\n",
      "too high. Try a lesser number next time\n",
      "Enter your guess between 1 and 100: 12\n",
      "too high. Try a lesser number next time\n",
      "Enter your guess between 1 and 100: 6\n",
      "too low. Try a greater number next time\n",
      "Enter your guess between 1 and 100: 9\n",
      "too high. Try a lesser number next time\n",
      "Enter your guess between 1 and 100: 8\n",
      "too high. Try a lesser number next time\n",
      "Enter your guess between 1 and 100: 7\n",
      "\n",
      "Congratulations you guessed it! in 7 turns\n"
     ]
    }
   ],
   "source": [
    "import random\n",
    "actual = random.randint(1, 100)\n",
    "count = 0\n",
    "while True:\n",
    "    guess = int(input(\"Enter your guess between 1 and 100: \"))\n",
    "    count += 1\n",
    "    if guess < actual:\n",
    "        print(\"too low. Try a greater number next time\")\n",
    "    elif guess > actual:\n",
    "        print(\"too high. Try a lesser number next time\")\n",
    "    else:\n",
    "        print(\"\\nCongratulations you guessed it! in {} turns\".format(count))\n",
    "        break\n",
    "\n",
    "    "
   ]
  },
  {
   "cell_type": "code",
   "execution_count": null,
   "metadata": {},
   "outputs": [],
   "source": []
  }
 ],
 "metadata": {
  "kernelspec": {
   "display_name": "Python 3",
   "language": "python",
   "name": "python3"
  },
  "language_info": {
   "codemirror_mode": {
    "name": "ipython",
    "version": 3
   },
   "file_extension": ".py",
   "mimetype": "text/x-python",
   "name": "python",
   "nbconvert_exporter": "python",
   "pygments_lexer": "ipython3",
   "version": "3.6.8"
  }
 },
 "nbformat": 4,
 "nbformat_minor": 2
}
